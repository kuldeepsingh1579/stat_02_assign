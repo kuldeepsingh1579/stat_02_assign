{
 "cells": [
  {
   "cell_type": "raw",
   "id": "25cbf71e-ed26-4476-bcfc-e337b550724f",
   "metadata": {},
   "source": [
    "Question-No.1"
   ]
  },
  {
   "cell_type": "raw",
   "id": "2363e005-b0e8-4a8f-a62c-e95d5b805634",
   "metadata": {},
   "source": [
    "Probability density function is a function that provides the likelihood that the value of a random variable will fall between a certain range of values. We use the probability density function in the case of continuous random variables. For discrete random variables, we use the probability mass function which is analogous to the probability density function."
   ]
  },
  {
   "cell_type": "raw",
   "id": "a402df44-8aa6-427e-a8d8-0881ed1bd510",
   "metadata": {},
   "source": [
    "Question-No.2"
   ]
  },
  {
   "cell_type": "raw",
   "id": "b6a37586-b48e-430e-892a-78d8a30b2670",
   "metadata": {},
   "source": [
    "There are several types of probability distributions in statistics, each with its own characteristics and applications. Here are some of the most common types of probability distributions:\n",
    "\n",
    "1-Discrete Probability Distributions:\n",
    "-> Bernoulli Distribution: Models the probability of success or failure in a single experiment or trial.\n",
    "-> Binomial Distribution: Describes the number of successes in a fixed number of independent Bernoulli trials.\n",
    "-> Poisson Distribution: Models the number of events occurring in a fixed interval of time or space when events        happen at a known average rate.\n",
    "\n",
    "2- Continuous Probability Distribution:\n",
    "->Normal Distribution (Gaussian Distribution): Represents a continuous random variable with a bell-shaped,   symmetric distribution. It's widely used due to the Central Limit Theorem.\n",
    "->Uniform Distribution: All values within a specified range are equally likely.\n",
    "-> Exponential Distribution: Models the time between events in a Poisson process, where events occur at a constant    average rate.\n"
   ]
  },
  {
   "cell_type": "raw",
   "id": "5fd498e5-0fa8-4967-951f-3974c095736a",
   "metadata": {},
   "source": [
    "Question-No.3\n",
    "You can use the probability density function (PDF) formula for a normal distribution to create a Python function that calculates the PDF at a given point. "
   ]
  },
  {
   "cell_type": "code",
   "execution_count": 2,
   "id": "1bcfaff8-444c-4966-9e1f-6eab7be4e58f",
   "metadata": {},
   "outputs": [
    {
     "name": "stdout",
     "output_type": "stream",
     "text": [
      "The PDF at x = 1.0 is 0.2420\n"
     ]
    }
   ],
   "source": [
    "import math\n",
    "\n",
    "def normal_pdf(x, mean, std_dev):\n",
    "   \n",
    "    if std_dev <= 0:\n",
    "        raise ValueError(\"Standard deviation must be greater than 0.\")\n",
    "    \n",
    "    coefficient = 1 / (std_dev * math.sqrt(2 * math.pi))\n",
    "    exponent = -((x - mean) ** 2) / (2 * (std_dev ** 2))\n",
    "    pdf_value = coefficient * math.exp(exponent)\n",
    "    \n",
    "    return pdf_value\n",
    "\n",
    "# Example usage:\n",
    "mean = 0.0\n",
    "std_dev = 1.0\n",
    "x = 1.0\n",
    "pdf = normal_pdf(x, mean, std_dev)\n",
    "print(f\"The PDF at x = {x} is {pdf:.4f}\")\n"
   ]
  },
  {
   "cell_type": "raw",
   "id": "d7f9d425-9072-4313-b473-d116087dfe01",
   "metadata": {},
   "source": [
    "Question-No.4"
   ]
  },
  {
   "cell_type": "raw",
   "id": "030492d9-a095-4abf-9c93-0fe552e3d162",
   "metadata": {},
   "source": [
    "The binomial distribution is a discrete probability distribution that models the number of successes (usually denoted as \"k\") in a fixed number of independent Bernoulli trials (experiments with two possible outcomes: success and failure), where each trial has the same probability of success (usually denoted as \"p\").\n",
    "\n",
    "These are the properties of binomial distribution-\n",
    "1- Number of Trials (n): It represents the fixed number of identical trials or experiments.\n",
    "2- Probability of Success (p): It represents the probability of success in a single trial or experiment.\n",
    "\n",
    "3- Probability of Failure (q): It's the complement of the probability of success, i.e., q=1-p\n",
    "4- Discreteness: The binomial distribution is a discrete distribution because it deals with whole numbers (non-    negative integers).\n",
    "5- Independence: The trials are assumed to be independent, meaning the outcome of one trial does not affect the   outcome of another.\n",
    "6- Fixed Number of Trials: The number of trials (n) is fixed in advance.\n"
   ]
  },
  {
   "cell_type": "raw",
   "id": "bcb672f4-2a9a-4f83-8963-77f9fa143793",
   "metadata": {},
   "source": [
    "Question-No.5"
   ]
  },
  {
   "cell_type": "code",
   "execution_count": 4,
   "id": "e03353e1-882a-4c00-acfc-0f7855ce79e2",
   "metadata": {},
   "outputs": [
    {
     "data": {
      "image/png": "[encoded data removed]",
      "text/plain": [
       "<Figure size 640x480 with 1 Axes>"
      ]
     },
     "metadata": {},
     "output_type": "display_data"
    }
   ],
   "source": [
    "import numpy as np\n",
    "import matplotlib.pyplot as plt\n",
    "\n",
    "\n",
    "n = 1000  \n",
    "p = 0.4   \n",
    "\n",
    "# Generate a random sample from the binomial distribution\n",
    "random_sample = np.random.binomial(1, p, n)\n",
    "\n",
    "\n",
    "plt.hist(random_sample, bins=2, edgecolor='k', align='mid', alpha=0.7)\n",
    "plt.title('Binomial Distribution (n=1000, p=0.4)')\n",
    "plt.xlabel('Number of Successes')\n",
    "plt.ylabel('Frequency')\n",
    "plt.xticks([0, 1], ['Failure', 'Success'])\n",
    "plt.show()\n"
   ]
  },
  {
   "cell_type": "raw",
   "id": "a6cc1ddc-663b-4fa2-b1dc-5dd209e31a2a",
   "metadata": {},
   "source": [
    "Question.No.6"
   ]
  },
  {
   "cell_type": "code",
   "execution_count": 7,
   "id": "3def681d-1b0e-4117-bc76-02224279d739",
   "metadata": {},
   "outputs": [
    {
     "name": "stdout",
     "output_type": "stream",
     "text": [
      "The Poisson CDF at k = 2 is 0.3208\n"
     ]
    }
   ],
   "source": [
    "import math\n",
    "\n",
    "def poisson_cdf(k, mean):\n",
    "   \n",
    "    if k < 0 or mean <= 0:\n",
    "        raise ValueError(\"Both 'k' and 'mean' must be non-negative numbers.\")\n",
    "    \n",
    "    cdf = 0.0\n",
    "    for i in range(k + 1):\n",
    "        cdf += (math.exp(-mean) * (mean ** i)) / math.factorial(i)\n",
    "    \n",
    "    return cdf\n",
    "\n",
    "# Example usage:\n",
    "mean = 3.5\n",
    "k = 2\n",
    "cdf = poisson_cdf(k, mean)\n",
    "print(f\"The Poisson CDF at k = {k} is {cdf:.4f}\")\n"
   ]
  },
  {
   "cell_type": "raw",
   "id": "51111ff9-1aeb-4e32-b8fb-e49a916915b6",
   "metadata": {},
   "source": [
    "Question.No.7"
   ]
  },
  {
   "cell_type": "raw",
   "id": "33e8914a-ec18-4c82-b01d-f5275480f28a",
   "metadata": {},
   "source": [
    "Binomial distribution describes the distribution of binary data from a finite sample. Thus it gives the probability of getting r events out of n trials. Poisson distribution describes the distribution of binary data from an infinite sample"
   ]
  },
  {
   "cell_type": "raw",
   "id": "3b1edfdd-5a60-4ed2-b9e6-d0df5c4dae1e",
   "metadata": {},
   "source": [
    "Question-No.8"
   ]
  },
  {
   "cell_type": "code",
   "execution_count": null,
   "id": "ae5bd040-4624-4983-847a-c87b9b82d17a",
   "metadata": {},
   "outputs": [],
   "source": [
    "import numpy as np\n",
    "\n",
    "# Set the parameters\n",
    "mean = 5  # Mean of the Poisson distribution\n",
    "sample_size = 1000  # Size of the random sample\n",
    "\n",
    "# Generate a random sample from the Poisson distribution\n",
    "random_sample = np.random.poisson(mean, sample_size)\n",
    "\n",
    "# Calculate the sample mean and variance\n",
    "sample_mean = np.mean(random_sample)\n",
    "sample_variance = np.var(random_sample, ddof=0)  # ddof=0 for population variance\n",
    "\n",
    "print(f\"Sample Mean: {sample_mean:.2f}\")\n",
    "print(f\"Sample Variance: {sample_variance:.2f}\")\n"
   ]
  }
 ],
 "metadata": {
  "kernelspec": {
   "display_name": "Python 3 (ipykernel)",
   "language": "python",
   "name": "python3"
  },
  "language_info": {
   "codemirror_mode": {
    "name": "ipython",
    "version": 3
   },
   "file_extension": ".py",
   "mimetype": "text/x-python",
   "name": "python",
   "nbconvert_exporter": "python",
   "pygments_lexer": "ipython3",
   "version": "3.10.8"
  }
 },
 "nbformat": 4,
 "nbformat_minor": 5
}
